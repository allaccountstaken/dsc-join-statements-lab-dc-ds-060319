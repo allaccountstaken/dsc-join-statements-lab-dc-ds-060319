{
 "cells": [
  {
   "cell_type": "markdown",
   "metadata": {},
   "source": [
    "# Join Statements - Lab\n",
    "\n",
    "## Introduction\n",
    "\n",
    "In this lab, you'll practice your knowledge of join statements, using various types of joins and various methods for specifying the links between them.\n",
    "\n",
    "## Objectives\n",
    "\n",
    "You will be able to:\n",
    "- Write queries that make use of various types of Joins\n",
    "- Join tables using foreign keys"
   ]
  },
  {
   "cell_type": "markdown",
   "metadata": {},
   "source": [
    "## CRM Schema\n",
    "\n",
    "In almost all cases, rather then just working with a single table you will typically need data from multiple tables. \n",
    "Doing this requires the use of **joins ** using shared columns from the two tables. \n",
    "\n",
    "In this lab, you'll use the same Customer Relationship Management (CRM) database that you saw from the previous lesson.\n",
    "<img src='images/Database-Schema.png' width=\"600\">"
   ]
  },
  {
   "cell_type": "markdown",
   "metadata": {},
   "source": [
    "## Connecting to the Database\n",
    "Import the necessary packages and connect to the database **data.sqlite**."
   ]
  },
  {
   "cell_type": "code",
   "execution_count": 24,
   "metadata": {},
   "outputs": [],
   "source": [
    "#Your code here\n",
    "import sqlite3\n",
    "import pandas as pd\n",
    "\n",
    "conn = sqlite3.connect('data.sqlite', detect_types=sqlite3.PARSE_COLNAMES)\n",
    "cur = conn.cursor()"
   ]
  },
  {
   "cell_type": "markdown",
   "metadata": {},
   "source": [
    "## Display the names of all the employees in Boston.\n",
    "Hint: join the employees and offices tables."
   ]
  },
  {
   "cell_type": "code",
   "execution_count": 19,
   "metadata": {},
   "outputs": [
    {
     "data": {
      "text/plain": [
       "<sqlite3.Cursor at 0x7fd5300b1a40>"
      ]
     },
     "execution_count": 19,
     "metadata": {},
     "output_type": "execute_result"
    }
   ],
   "source": [
    "#Your code here\n",
    "cur.execute(\"\"\"select * from employees join offices using(officeCode) \n",
    "where city = 'Boston';\"\"\")\n",
    "#cur.fetchmany(2)"
   ]
  },
  {
   "cell_type": "markdown",
   "metadata": {},
   "source": [
    "## Do any offices have no employees?\n",
    "Hint: Combine the employees and offices tables and use a group by."
   ]
  },
  {
   "cell_type": "code",
   "execution_count": 18,
   "metadata": {},
   "outputs": [
    {
     "data": {
      "text/plain": [
       "[('Boston', 2),\n",
       " ('London', 2),\n",
       " ('NYC', 2),\n",
       " ('Paris', 5),\n",
       " ('San Francisco', 6),\n",
       " ('Sydney', 4),\n",
       " ('Tokyo', 2)]"
      ]
     },
     "execution_count": 18,
     "metadata": {},
     "output_type": "execute_result"
    }
   ],
   "source": [
    "#Your code here\n",
    "cur.execute(\"\"\"SELECT city, count(lastname) FROM employees join offices \n",
    "            using(officeCode) GROUP BY 1 ;\"\"\")\n",
    "cur.fetchall()"
   ]
  },
  {
   "cell_type": "markdown",
   "metadata": {},
   "source": [
    "## Write 3 Questions of your own and answer them"
   ]
  },
  {
   "cell_type": "code",
   "execution_count": null,
   "metadata": {},
   "outputs": [],
   "source": [
    "# Answers will vary"
   ]
  },
  {
   "cell_type": "code",
   "execution_count": null,
   "metadata": {},
   "outputs": [],
   "source": [
    "# Your code here"
   ]
  },
  {
   "cell_type": "code",
   "execution_count": null,
   "metadata": {},
   "outputs": [],
   "source": [
    "# Your code here"
   ]
  },
  {
   "cell_type": "code",
   "execution_count": null,
   "metadata": {},
   "outputs": [],
   "source": [
    "# Your code here"
   ]
  },
  {
   "cell_type": "markdown",
   "metadata": {},
   "source": [
    "## Level Up: Display the names of each product each employee has sold"
   ]
  },
  {
   "cell_type": "code",
   "execution_count": 26,
   "metadata": {},
   "outputs": [
    {
     "data": {
      "text/plain": [
       "<bound method NDFrame.head of              0                                            1\n",
       "0     Jennings                               1958 Setra Bus\n",
       "1     Jennings                       1940 Ford Pickup Truck\n",
       "2     Jennings                      1939 Cadillac Limousine\n",
       "3     Jennings  1996 Peterbilt 379 Stake Bed with Outrigger\n",
       "4     Jennings                            1968 Ford Mustang\n",
       "5     Jennings                           1968 Dodge Charger\n",
       "6     Jennings                      1970 Plymouth Hemi Cuda\n",
       "7     Jennings                           1969 Dodge Charger\n",
       "8     Jennings                  1948 Porsche 356-A Roadster\n",
       "9     Jennings                         1969 Dodge Super Bee\n",
       "10    Jennings                        1976 Ford Gran Torino\n",
       "11    Jennings                             1957 Vespa GS150\n",
       "12    Jennings                    1957 Corvette Convertible\n",
       "13    Jennings                      1982 Ducati 900 Monster\n",
       "14    Jennings                      1982 Lamborghini Diablo\n",
       "15    Jennings                    1971 Alpine Renault 1600s\n",
       "16    Jennings                      1956 Porsche 356A Coupe\n",
       "17    Jennings                        1961 Chevrolet Impala\n",
       "18    Jennings                            1982 Ducati 996 R\n",
       "19    Jennings                    1974 Ducati 350 Mk3 Desmo\n",
       "20    Jennings                           2002 Yamaha YZR M1\n",
       "21    Jennings                            2001 Ferrari Enzo\n",
       "22    Jennings                           1969 Corvair Monza\n",
       "23    Jennings                             1969 Ford Falcon\n",
       "24    Jennings                            1903 Ford Model A\n",
       "25    Jennings                     Collectable Wooden Train\n",
       "26    Jennings                        1970 Triumph Spitfire\n",
       "27    Jennings                          1904 Buick Runabout\n",
       "28    Jennings                        18th century schooner\n",
       "29    Jennings             1912 Ford Model T Delivery Wagon\n",
       "...        ...                                          ...\n",
       "2966    Gerard                     1917 Grand Touring Sedan\n",
       "2967    Gerard                           1911 Ford Town Car\n",
       "2968    Gerard                    1932 Model A Ford J-Coupe\n",
       "2969    Gerard                       1928 Mercedes-Benz SSK\n",
       "2970    Gerard                  1939 Chevrolet Deluxe Coupe\n",
       "2971    Gerard    1938 Cadillac V-16 Presidential Limousine\n",
       "2972    Gerard             1936 Mercedes Benz 500k Roadster\n",
       "2973    Gerard                            2001 Ferrari Enzo\n",
       "2974    Gerard                           1969 Corvair Monza\n",
       "2975    Gerard                      1939 Cadillac Limousine\n",
       "2976    Gerard                     1962 Volkswagen Microbus\n",
       "2977    Gerard                        1936 Chrysler Airflow\n",
       "2978    Gerard                  1980’s GM Manhattan Express\n",
       "2979    Gerard  1996 Peterbilt 379 Stake Bed with Outrigger\n",
       "2980    Gerard                              1982 Camaro Z28\n",
       "2981    Gerard                            1957 Chevy Pickup\n",
       "2982    Gerard               1998 Chrysler Plymouth Prowler\n",
       "2983    Gerard                       1964 Mercedes Tour Bus\n",
       "2984    Gerard                        1926 Ford Fire Engine\n",
       "2985    Gerard                  1992 Ferrari 360 Spider red\n",
       "2986    Gerard                           1970 Dodge Coronet\n",
       "2987    Gerard                     1962 Volkswagen Microbus\n",
       "2988    Gerard          1958 Chevy Corvette Limited Edition\n",
       "2989    Gerard            1992 Porsche Cayenne Turbo Silver\n",
       "2990    Gerard                  1980’s GM Manhattan Express\n",
       "2991    Gerard                  1954 Greyhound Scenicruiser\n",
       "2992    Gerard       1950's Chicago Surface Lines Streetcar\n",
       "2993    Gerard             Diamond T620 Semi-Skirted Tanker\n",
       "2994    Gerard                           1911 Ford Town Car\n",
       "2995    Gerard             1936 Mercedes Benz 500k Roadster\n",
       "\n",
       "[2996 rows x 2 columns]>"
      ]
     },
     "execution_count": 26,
     "metadata": {},
     "output_type": "execute_result"
    }
   ],
   "source": [
    "# Your code here\n",
    "cur.execute(\"\"\"SELECT lastname, productName \n",
    "FROM employees e JOIN customers c \n",
    "ON e.employeeNumber = c.salesRepEmployeeNumber\n",
    "JOIN orders o using(customernumber)\n",
    "JOIN orderdetails od using(ordernumber)\n",
    "JOIN products p using (productCode)\"\"\")\n",
    "\n",
    "df = pd.DataFrame(cur.fetchall())\n",
    "len(df)\n",
    "df.head\n",
    "df.columns"
   ]
  },
  {
   "cell_type": "markdown",
   "metadata": {},
   "source": [
    "## Level Up: Display the Number of Products each employee has sold"
   ]
  },
  {
   "cell_type": "code",
   "execution_count": null,
   "metadata": {},
   "outputs": [],
   "source": [
    "#Your code here"
   ]
  },
  {
   "cell_type": "markdown",
   "metadata": {},
   "source": [
    "## Summary"
   ]
  },
  {
   "cell_type": "markdown",
   "metadata": {},
   "source": [
    "Congrats! You now know how to use join statements, along with leveraging your foreign keys knowledge!"
   ]
  }
 ],
 "metadata": {
  "kernelspec": {
   "display_name": "Python 3",
   "language": "python",
   "name": "python3"
  },
  "language_info": {
   "codemirror_mode": {
    "name": "ipython",
    "version": 3
   },
   "file_extension": ".py",
   "mimetype": "text/x-python",
   "name": "python",
   "nbconvert_exporter": "python",
   "pygments_lexer": "ipython3",
   "version": "3.6.6"
  }
 },
 "nbformat": 4,
 "nbformat_minor": 2
}
